{
  "nbformat": 4,
  "nbformat_minor": 0,
  "metadata": {
    "colab": {
      "provenance": [],
      "include_colab_link": true
    },
    "kernelspec": {
      "name": "python3",
      "display_name": "Python 3"
    },
    "language_info": {
      "name": "python"
    }
  },
  "cells": [
    {
      "cell_type": "markdown",
      "metadata": {
        "id": "view-in-github",
        "colab_type": "text"
      },
      "source": [
        "<a href=\"https://colab.research.google.com/github/ClementGuerin-wagon/Olympic-Games/blob/main/Results.ipynb\" target=\"_parent\"><img src=\"https://colab.research.google.com/assets/colab-badge.svg\" alt=\"Open In Colab\"/></a>"
      ]
    },
    {
      "cell_type": "code",
      "execution_count": null,
      "metadata": {
        "colab": {
          "base_uri": "https://localhost:8080/"
        },
        "id": "ANvD5KiNm_UV",
        "outputId": "247a013a-5132-4732-b3a6-e4a37b0340fb"
      },
      "outputs": [
        {
          "output_type": "stream",
          "name": "stdout",
          "text": [
            "Drive already mounted at /content/drive; to attempt to forcibly remount, call drive.mount(\"/content/drive\", force_remount=True).\n"
          ]
        }
      ],
      "source": [
        "from google.colab import drive\n",
        "drive.mount('/content/drive')"
      ]
    },
    {
      "cell_type": "code",
      "source": [
        "import pandas as pd\n",
        "import numpy as np\n",
        "df_results = pd.read_csv(\"/content/drive/MyDrive/olympic_results.csv\")"
      ],
      "metadata": {
        "id": "ohsefORGnKBE"
      },
      "execution_count": null,
      "outputs": []
    },
    {
      "cell_type": "code",
      "source": [
        "# know columns format - Transform columns to be in the right format\n",
        "\n",
        "# Understand if there are Null values, if yes, it's important to understand their percentage (>60% : drop the entire column)\n",
        "\n",
        "# For numerical data use the distributions to undertsand how to fill null values\n",
        "\n",
        "# Understand different values of the column and what they represent"
      ],
      "metadata": {
        "id": "ps_p9V5lpKBi"
      },
      "execution_count": null,
      "outputs": []
    },
    {
      "cell_type": "code",
      "source": [
        "df_results.dtypes"
      ],
      "metadata": {
        "colab": {
          "base_uri": "https://localhost:8080/"
        },
        "id": "GPxzMBqT0DY5",
        "outputId": "3e20b5bc-2f82-438f-da9a-fe7f2dddde8e"
      },
      "execution_count": null,
      "outputs": [
        {
          "output_type": "execute_result",
          "data": {
            "text/plain": [
              "discipline_title         object\n",
              "event_title              object\n",
              "slug_game                object\n",
              "participant_type         object\n",
              "medal_type               object\n",
              "athletes                 object\n",
              "rank_equal               object\n",
              "rank_position            object\n",
              "country_name             object\n",
              "country_code             object\n",
              "country_3_letter_code    object\n",
              "athlete_url              object\n",
              "athlete_full_name        object\n",
              "value_unit               object\n",
              "value_type               object\n",
              "dtype: object"
            ]
          },
          "metadata": {},
          "execution_count": 4
        }
      ]
    },
    {
      "cell_type": "code",
      "source": [
        "df_results[\"medal_type\"].value_counts() / df_results.shape[0]"
      ],
      "metadata": {
        "colab": {
          "base_uri": "https://localhost:8080/"
        },
        "id": "eYIKn55qqBhC",
        "outputId": "ff5a6e49-ae50-44b1-9065-a455fcded0fe"
      },
      "execution_count": null,
      "outputs": [
        {
          "output_type": "execute_result",
          "data": {
            "text/plain": [
              "BRONZE    0.043175\n",
              "GOLD      0.040595\n",
              "SILVER    0.040343\n",
              "Name: medal_type, dtype: float64"
            ]
          },
          "metadata": {},
          "execution_count": 5
        }
      ]
    },
    {
      "cell_type": "code",
      "source": [
        "df_results[\"athletes\"].isnull().value_counts() / df_results.shape[0]"
      ],
      "metadata": {
        "colab": {
          "base_uri": "https://localhost:8080/"
        },
        "id": "-ENpkoZUvwoj",
        "outputId": "3240bd80-23e1-41ac-9257-246f099b5001"
      },
      "execution_count": null,
      "outputs": [
        {
          "output_type": "execute_result",
          "data": {
            "text/plain": [
              "True     0.951009\n",
              "False    0.048991\n",
              "Name: athletes, dtype: float64"
            ]
          },
          "metadata": {},
          "execution_count": 6
        }
      ]
    },
    {
      "cell_type": "code",
      "source": [
        "df_results[\"rank_equal\"].isnull().value_counts() / df_results.shape[0]"
      ],
      "metadata": {
        "colab": {
          "base_uri": "https://localhost:8080/"
        },
        "id": "OkoZZ0gzwNaH",
        "outputId": "b1848052-1236-4984-c62e-a8c05a44c897"
      },
      "execution_count": null,
      "outputs": [
        {
          "output_type": "execute_result",
          "data": {
            "text/plain": [
              "True     0.800214\n",
              "False    0.199786\n",
              "Name: rank_equal, dtype: float64"
            ]
          },
          "metadata": {},
          "execution_count": 7
        }
      ]
    },
    {
      "cell_type": "code",
      "source": [
        "df_results[\"rank_position\"].isnull().value_counts() / df_results.shape[0]"
      ],
      "metadata": {
        "colab": {
          "base_uri": "https://localhost:8080/"
        },
        "id": "VK3ByDtwxc6y",
        "outputId": "364afa6c-b532-4172-b496-37aed790db55"
      },
      "execution_count": null,
      "outputs": [
        {
          "output_type": "execute_result",
          "data": {
            "text/plain": [
              "False    0.97618\n",
              "True     0.02382\n",
              "Name: rank_position, dtype: float64"
            ]
          },
          "metadata": {},
          "execution_count": 8
        }
      ]
    },
    {
      "cell_type": "code",
      "source": [
        "df_results[\"athlete_url\"].isnull().value_counts() / df_results.shape[0]"
      ],
      "metadata": {
        "colab": {
          "base_uri": "https://localhost:8080/"
        },
        "id": "V0o1zZILxu4_",
        "outputId": "9dba617a-2096-41e7-f760-51f2b02c9cff"
      },
      "execution_count": null,
      "outputs": [
        {
          "output_type": "execute_result",
          "data": {
            "text/plain": [
              "False    0.798451\n",
              "True     0.201549\n",
              "Name: athlete_url, dtype: float64"
            ]
          },
          "metadata": {},
          "execution_count": 9
        }
      ]
    },
    {
      "cell_type": "code",
      "source": [
        "df_results[\"athlete_full_name\"].isnull().value_counts() / df_results.shape[0]"
      ],
      "metadata": {
        "colab": {
          "base_uri": "https://localhost:8080/"
        },
        "id": "eimxNKZjyG1S",
        "outputId": "dd84200b-0a85-4f87-e07e-913c4eabf2cf"
      },
      "execution_count": null,
      "outputs": [
        {
          "output_type": "execute_result",
          "data": {
            "text/plain": [
              "False    0.87004\n",
              "True     0.12996\n",
              "Name: athlete_full_name, dtype: float64"
            ]
          },
          "metadata": {},
          "execution_count": 10
        }
      ]
    },
    {
      "cell_type": "code",
      "source": [
        "df_results[\"value_unit\"].isnull().value_counts() / df_results.shape[0]"
      ],
      "metadata": {
        "colab": {
          "base_uri": "https://localhost:8080/"
        },
        "id": "YoRBJcsHyT1D",
        "outputId": "3fa0c3c2-e23b-4ef8-f94c-3c6cc4bcb4cb"
      },
      "execution_count": null,
      "outputs": [
        {
          "output_type": "execute_result",
          "data": {
            "text/plain": [
              "True     0.516928\n",
              "False    0.483072\n",
              "Name: value_unit, dtype: float64"
            ]
          },
          "metadata": {},
          "execution_count": 11
        }
      ]
    },
    {
      "cell_type": "code",
      "source": [
        "df_results[\"value_type\"].isnull().value_counts() / df_results.shape[0]"
      ],
      "metadata": {
        "colab": {
          "base_uri": "https://localhost:8080/"
        },
        "id": "3hg7Rg-IyXxp",
        "outputId": "c2ead31a-fb65-4e10-a05a-574d014ae60f"
      },
      "execution_count": null,
      "outputs": [
        {
          "output_type": "execute_result",
          "data": {
            "text/plain": [
              "False    0.553113\n",
              "True     0.446887\n",
              "Name: value_type, dtype: float64"
            ]
          },
          "metadata": {},
          "execution_count": 12
        }
      ]
    },
    {
      "cell_type": "code",
      "source": [
        "df_results.columns"
      ],
      "metadata": {
        "colab": {
          "base_uri": "https://localhost:8080/"
        },
        "id": "pxR3BLLd19hi",
        "outputId": "3ee6825e-6925-46b6-c35e-963a47353f72"
      },
      "execution_count": null,
      "outputs": [
        {
          "output_type": "execute_result",
          "data": {
            "text/plain": [
              "Index(['discipline_title', 'event_title', 'slug_game', 'participant_type',\n",
              "       'medal_type', 'athletes', 'rank_equal', 'rank_position', 'country_name',\n",
              "       'country_code', 'country_3_letter_code', 'athlete_url',\n",
              "       'athlete_full_name', 'value_unit', 'value_type'],\n",
              "      dtype='object')"
            ]
          },
          "metadata": {},
          "execution_count": 13
        }
      ]
    },
    {
      "cell_type": "code",
      "source": [
        "df_results.drop(columns = [\"athletes\", \"rank_equal\", \"country_code\", \"athlete_url\", \"athlete_full_name\"], inplace=True)"
      ],
      "metadata": {
        "id": "D_wqTAoe7bzz"
      },
      "execution_count": null,
      "outputs": []
    },
    {
      "cell_type": "code",
      "source": [
        "df_results"
      ],
      "metadata": {
        "colab": {
          "base_uri": "https://localhost:8080/",
          "height": 652
        },
        "id": "6I1wCT314JpN",
        "outputId": "9de3a304-bd38-4bf1-b0d2-28fabfc95d31"
      },
      "execution_count": null,
      "outputs": [
        {
          "output_type": "execute_result",
          "data": {
            "text/plain": [
              "           discipline_title  \\\n",
              "0                   Curling   \n",
              "1                   Curling   \n",
              "2                   Curling   \n",
              "3                   Curling   \n",
              "4                   Curling   \n",
              "...                     ...   \n",
              "162799          Ski Jumping   \n",
              "162800          Ski Jumping   \n",
              "162801          Ski Jumping   \n",
              "162802          Ski Jumping   \n",
              "162803  Gymnastics Artistic   \n",
              "\n",
              "                                              event_title      slug_game  \\\n",
              "0                                           Mixed Doubles   beijing-2022   \n",
              "1                                           Mixed Doubles   beijing-2022   \n",
              "2                                           Mixed Doubles   beijing-2022   \n",
              "3                                           Mixed Doubles   beijing-2022   \n",
              "4                                           Mixed Doubles   beijing-2022   \n",
              "...                                                   ...            ...   \n",
              "162799                         Normal Hill Individual men  chamonix-1924   \n",
              "162800                         Normal Hill Individual men  chamonix-1924   \n",
              "162801                         Normal Hill Individual men  chamonix-1924   \n",
              "162802                         Normal Hill Individual men  chamonix-1924   \n",
              "162803  26th Federal Festival, Society and Association...     paris-1900   \n",
              "\n",
              "       participant_type medal_type rank_position              country_name  \\\n",
              "0              GameTeam       GOLD             1                     Italy   \n",
              "1              GameTeam     SILVER             2                    Norway   \n",
              "2              GameTeam     BRONZE             3                    Sweden   \n",
              "3              GameTeam        NaN             4             Great Britain   \n",
              "4              GameTeam        NaN             5                    Canada   \n",
              "...                 ...        ...           ...                       ...   \n",
              "162799          Athlete        NaN           DNS                    Poland   \n",
              "162800          Athlete        NaN           DNS                    Poland   \n",
              "162801          Athlete        NaN           DNS            Czechoslovakia   \n",
              "162802          Athlete        NaN           DNS  United States of America   \n",
              "162803         GameTeam        NaN             1                    France   \n",
              "\n",
              "       country_3_letter_code value_unit value_type  \n",
              "0                        ITA        NaN        NaN  \n",
              "1                        NOR        NaN        NaN  \n",
              "2                        SWE        NaN        NaN  \n",
              "3                        GBR        NaN        NaN  \n",
              "4                        CAN        NaN        NaN  \n",
              "...                      ...        ...        ...  \n",
              "162799                   POL        NaN        IRM  \n",
              "162800                   POL        NaN        IRM  \n",
              "162801                   TCH        NaN        IRM  \n",
              "162802                   USA        NaN        IRM  \n",
              "162803                   FRA    142 pts     POINTS  \n",
              "\n",
              "[162804 rows x 10 columns]"
            ],
            "text/html": [
              "\n",
              "  <div id=\"df-41a7cdbe-e2d2-4145-84b9-fdf054e360ce\" class=\"colab-df-container\">\n",
              "    <div>\n",
              "<style scoped>\n",
              "    .dataframe tbody tr th:only-of-type {\n",
              "        vertical-align: middle;\n",
              "    }\n",
              "\n",
              "    .dataframe tbody tr th {\n",
              "        vertical-align: top;\n",
              "    }\n",
              "\n",
              "    .dataframe thead th {\n",
              "        text-align: right;\n",
              "    }\n",
              "</style>\n",
              "<table border=\"1\" class=\"dataframe\">\n",
              "  <thead>\n",
              "    <tr style=\"text-align: right;\">\n",
              "      <th></th>\n",
              "      <th>discipline_title</th>\n",
              "      <th>event_title</th>\n",
              "      <th>slug_game</th>\n",
              "      <th>participant_type</th>\n",
              "      <th>medal_type</th>\n",
              "      <th>rank_position</th>\n",
              "      <th>country_name</th>\n",
              "      <th>country_3_letter_code</th>\n",
              "      <th>value_unit</th>\n",
              "      <th>value_type</th>\n",
              "    </tr>\n",
              "  </thead>\n",
              "  <tbody>\n",
              "    <tr>\n",
              "      <th>0</th>\n",
              "      <td>Curling</td>\n",
              "      <td>Mixed Doubles</td>\n",
              "      <td>beijing-2022</td>\n",
              "      <td>GameTeam</td>\n",
              "      <td>GOLD</td>\n",
              "      <td>1</td>\n",
              "      <td>Italy</td>\n",
              "      <td>ITA</td>\n",
              "      <td>NaN</td>\n",
              "      <td>NaN</td>\n",
              "    </tr>\n",
              "    <tr>\n",
              "      <th>1</th>\n",
              "      <td>Curling</td>\n",
              "      <td>Mixed Doubles</td>\n",
              "      <td>beijing-2022</td>\n",
              "      <td>GameTeam</td>\n",
              "      <td>SILVER</td>\n",
              "      <td>2</td>\n",
              "      <td>Norway</td>\n",
              "      <td>NOR</td>\n",
              "      <td>NaN</td>\n",
              "      <td>NaN</td>\n",
              "    </tr>\n",
              "    <tr>\n",
              "      <th>2</th>\n",
              "      <td>Curling</td>\n",
              "      <td>Mixed Doubles</td>\n",
              "      <td>beijing-2022</td>\n",
              "      <td>GameTeam</td>\n",
              "      <td>BRONZE</td>\n",
              "      <td>3</td>\n",
              "      <td>Sweden</td>\n",
              "      <td>SWE</td>\n",
              "      <td>NaN</td>\n",
              "      <td>NaN</td>\n",
              "    </tr>\n",
              "    <tr>\n",
              "      <th>3</th>\n",
              "      <td>Curling</td>\n",
              "      <td>Mixed Doubles</td>\n",
              "      <td>beijing-2022</td>\n",
              "      <td>GameTeam</td>\n",
              "      <td>NaN</td>\n",
              "      <td>4</td>\n",
              "      <td>Great Britain</td>\n",
              "      <td>GBR</td>\n",
              "      <td>NaN</td>\n",
              "      <td>NaN</td>\n",
              "    </tr>\n",
              "    <tr>\n",
              "      <th>4</th>\n",
              "      <td>Curling</td>\n",
              "      <td>Mixed Doubles</td>\n",
              "      <td>beijing-2022</td>\n",
              "      <td>GameTeam</td>\n",
              "      <td>NaN</td>\n",
              "      <td>5</td>\n",
              "      <td>Canada</td>\n",
              "      <td>CAN</td>\n",
              "      <td>NaN</td>\n",
              "      <td>NaN</td>\n",
              "    </tr>\n",
              "    <tr>\n",
              "      <th>...</th>\n",
              "      <td>...</td>\n",
              "      <td>...</td>\n",
              "      <td>...</td>\n",
              "      <td>...</td>\n",
              "      <td>...</td>\n",
              "      <td>...</td>\n",
              "      <td>...</td>\n",
              "      <td>...</td>\n",
              "      <td>...</td>\n",
              "      <td>...</td>\n",
              "    </tr>\n",
              "    <tr>\n",
              "      <th>162799</th>\n",
              "      <td>Ski Jumping</td>\n",
              "      <td>Normal Hill Individual men</td>\n",
              "      <td>chamonix-1924</td>\n",
              "      <td>Athlete</td>\n",
              "      <td>NaN</td>\n",
              "      <td>DNS</td>\n",
              "      <td>Poland</td>\n",
              "      <td>POL</td>\n",
              "      <td>NaN</td>\n",
              "      <td>IRM</td>\n",
              "    </tr>\n",
              "    <tr>\n",
              "      <th>162800</th>\n",
              "      <td>Ski Jumping</td>\n",
              "      <td>Normal Hill Individual men</td>\n",
              "      <td>chamonix-1924</td>\n",
              "      <td>Athlete</td>\n",
              "      <td>NaN</td>\n",
              "      <td>DNS</td>\n",
              "      <td>Poland</td>\n",
              "      <td>POL</td>\n",
              "      <td>NaN</td>\n",
              "      <td>IRM</td>\n",
              "    </tr>\n",
              "    <tr>\n",
              "      <th>162801</th>\n",
              "      <td>Ski Jumping</td>\n",
              "      <td>Normal Hill Individual men</td>\n",
              "      <td>chamonix-1924</td>\n",
              "      <td>Athlete</td>\n",
              "      <td>NaN</td>\n",
              "      <td>DNS</td>\n",
              "      <td>Czechoslovakia</td>\n",
              "      <td>TCH</td>\n",
              "      <td>NaN</td>\n",
              "      <td>IRM</td>\n",
              "    </tr>\n",
              "    <tr>\n",
              "      <th>162802</th>\n",
              "      <td>Ski Jumping</td>\n",
              "      <td>Normal Hill Individual men</td>\n",
              "      <td>chamonix-1924</td>\n",
              "      <td>Athlete</td>\n",
              "      <td>NaN</td>\n",
              "      <td>DNS</td>\n",
              "      <td>United States of America</td>\n",
              "      <td>USA</td>\n",
              "      <td>NaN</td>\n",
              "      <td>IRM</td>\n",
              "    </tr>\n",
              "    <tr>\n",
              "      <th>162803</th>\n",
              "      <td>Gymnastics Artistic</td>\n",
              "      <td>26th Federal Festival, Society and Association...</td>\n",
              "      <td>paris-1900</td>\n",
              "      <td>GameTeam</td>\n",
              "      <td>NaN</td>\n",
              "      <td>1</td>\n",
              "      <td>France</td>\n",
              "      <td>FRA</td>\n",
              "      <td>142 pts</td>\n",
              "      <td>POINTS</td>\n",
              "    </tr>\n",
              "  </tbody>\n",
              "</table>\n",
              "<p>162804 rows × 10 columns</p>\n",
              "</div>\n",
              "    <div class=\"colab-df-buttons\">\n",
              "\n",
              "  <div class=\"colab-df-container\">\n",
              "    <button class=\"colab-df-convert\" onclick=\"convertToInteractive('df-41a7cdbe-e2d2-4145-84b9-fdf054e360ce')\"\n",
              "            title=\"Convert this dataframe to an interactive table.\"\n",
              "            style=\"display:none;\">\n",
              "\n",
              "  <svg xmlns=\"http://www.w3.org/2000/svg\" height=\"24px\" viewBox=\"0 -960 960 960\">\n",
              "    <path d=\"M120-120v-720h720v720H120Zm60-500h600v-160H180v160Zm220 220h160v-160H400v160Zm0 220h160v-160H400v160ZM180-400h160v-160H180v160Zm440 0h160v-160H620v160ZM180-180h160v-160H180v160Zm440 0h160v-160H620v160Z\"/>\n",
              "  </svg>\n",
              "    </button>\n",
              "\n",
              "  <style>\n",
              "    .colab-df-container {\n",
              "      display:flex;\n",
              "      gap: 12px;\n",
              "    }\n",
              "\n",
              "    .colab-df-convert {\n",
              "      background-color: #E8F0FE;\n",
              "      border: none;\n",
              "      border-radius: 50%;\n",
              "      cursor: pointer;\n",
              "      display: none;\n",
              "      fill: #1967D2;\n",
              "      height: 32px;\n",
              "      padding: 0 0 0 0;\n",
              "      width: 32px;\n",
              "    }\n",
              "\n",
              "    .colab-df-convert:hover {\n",
              "      background-color: #E2EBFA;\n",
              "      box-shadow: 0px 1px 2px rgba(60, 64, 67, 0.3), 0px 1px 3px 1px rgba(60, 64, 67, 0.15);\n",
              "      fill: #174EA6;\n",
              "    }\n",
              "\n",
              "    .colab-df-buttons div {\n",
              "      margin-bottom: 4px;\n",
              "    }\n",
              "\n",
              "    [theme=dark] .colab-df-convert {\n",
              "      background-color: #3B4455;\n",
              "      fill: #D2E3FC;\n",
              "    }\n",
              "\n",
              "    [theme=dark] .colab-df-convert:hover {\n",
              "      background-color: #434B5C;\n",
              "      box-shadow: 0px 1px 3px 1px rgba(0, 0, 0, 0.15);\n",
              "      filter: drop-shadow(0px 1px 2px rgba(0, 0, 0, 0.3));\n",
              "      fill: #FFFFFF;\n",
              "    }\n",
              "  </style>\n",
              "\n",
              "    <script>\n",
              "      const buttonEl =\n",
              "        document.querySelector('#df-41a7cdbe-e2d2-4145-84b9-fdf054e360ce button.colab-df-convert');\n",
              "      buttonEl.style.display =\n",
              "        google.colab.kernel.accessAllowed ? 'block' : 'none';\n",
              "\n",
              "      async function convertToInteractive(key) {\n",
              "        const element = document.querySelector('#df-41a7cdbe-e2d2-4145-84b9-fdf054e360ce');\n",
              "        const dataTable =\n",
              "          await google.colab.kernel.invokeFunction('convertToInteractive',\n",
              "                                                    [key], {});\n",
              "        if (!dataTable) return;\n",
              "\n",
              "        const docLinkHtml = 'Like what you see? Visit the ' +\n",
              "          '<a target=\"_blank\" href=https://colab.research.google.com/notebooks/data_table.ipynb>data table notebook</a>'\n",
              "          + ' to learn more about interactive tables.';\n",
              "        element.innerHTML = '';\n",
              "        dataTable['output_type'] = 'display_data';\n",
              "        await google.colab.output.renderOutput(dataTable, element);\n",
              "        const docLink = document.createElement('div');\n",
              "        docLink.innerHTML = docLinkHtml;\n",
              "        element.appendChild(docLink);\n",
              "      }\n",
              "    </script>\n",
              "  </div>\n",
              "\n",
              "\n",
              "<div id=\"df-e6094b37-0087-4475-97fc-92de9ed65ad7\">\n",
              "  <button class=\"colab-df-quickchart\" onclick=\"quickchart('df-e6094b37-0087-4475-97fc-92de9ed65ad7')\"\n",
              "            title=\"Suggest charts\"\n",
              "            style=\"display:none;\">\n",
              "\n",
              "<svg xmlns=\"http://www.w3.org/2000/svg\" height=\"24px\"viewBox=\"0 0 24 24\"\n",
              "     width=\"24px\">\n",
              "    <g>\n",
              "        <path d=\"M19 3H5c-1.1 0-2 .9-2 2v14c0 1.1.9 2 2 2h14c1.1 0 2-.9 2-2V5c0-1.1-.9-2-2-2zM9 17H7v-7h2v7zm4 0h-2V7h2v10zm4 0h-2v-4h2v4z\"/>\n",
              "    </g>\n",
              "</svg>\n",
              "  </button>\n",
              "\n",
              "<style>\n",
              "  .colab-df-quickchart {\n",
              "      --bg-color: #E8F0FE;\n",
              "      --fill-color: #1967D2;\n",
              "      --hover-bg-color: #E2EBFA;\n",
              "      --hover-fill-color: #174EA6;\n",
              "      --disabled-fill-color: #AAA;\n",
              "      --disabled-bg-color: #DDD;\n",
              "  }\n",
              "\n",
              "  [theme=dark] .colab-df-quickchart {\n",
              "      --bg-color: #3B4455;\n",
              "      --fill-color: #D2E3FC;\n",
              "      --hover-bg-color: #434B5C;\n",
              "      --hover-fill-color: #FFFFFF;\n",
              "      --disabled-bg-color: #3B4455;\n",
              "      --disabled-fill-color: #666;\n",
              "  }\n",
              "\n",
              "  .colab-df-quickchart {\n",
              "    background-color: var(--bg-color);\n",
              "    border: none;\n",
              "    border-radius: 50%;\n",
              "    cursor: pointer;\n",
              "    display: none;\n",
              "    fill: var(--fill-color);\n",
              "    height: 32px;\n",
              "    padding: 0;\n",
              "    width: 32px;\n",
              "  }\n",
              "\n",
              "  .colab-df-quickchart:hover {\n",
              "    background-color: var(--hover-bg-color);\n",
              "    box-shadow: 0 1px 2px rgba(60, 64, 67, 0.3), 0 1px 3px 1px rgba(60, 64, 67, 0.15);\n",
              "    fill: var(--button-hover-fill-color);\n",
              "  }\n",
              "\n",
              "  .colab-df-quickchart-complete:disabled,\n",
              "  .colab-df-quickchart-complete:disabled:hover {\n",
              "    background-color: var(--disabled-bg-color);\n",
              "    fill: var(--disabled-fill-color);\n",
              "    box-shadow: none;\n",
              "  }\n",
              "\n",
              "  .colab-df-spinner {\n",
              "    border: 2px solid var(--fill-color);\n",
              "    border-color: transparent;\n",
              "    border-bottom-color: var(--fill-color);\n",
              "    animation:\n",
              "      spin 1s steps(1) infinite;\n",
              "  }\n",
              "\n",
              "  @keyframes spin {\n",
              "    0% {\n",
              "      border-color: transparent;\n",
              "      border-bottom-color: var(--fill-color);\n",
              "      border-left-color: var(--fill-color);\n",
              "    }\n",
              "    20% {\n",
              "      border-color: transparent;\n",
              "      border-left-color: var(--fill-color);\n",
              "      border-top-color: var(--fill-color);\n",
              "    }\n",
              "    30% {\n",
              "      border-color: transparent;\n",
              "      border-left-color: var(--fill-color);\n",
              "      border-top-color: var(--fill-color);\n",
              "      border-right-color: var(--fill-color);\n",
              "    }\n",
              "    40% {\n",
              "      border-color: transparent;\n",
              "      border-right-color: var(--fill-color);\n",
              "      border-top-color: var(--fill-color);\n",
              "    }\n",
              "    60% {\n",
              "      border-color: transparent;\n",
              "      border-right-color: var(--fill-color);\n",
              "    }\n",
              "    80% {\n",
              "      border-color: transparent;\n",
              "      border-right-color: var(--fill-color);\n",
              "      border-bottom-color: var(--fill-color);\n",
              "    }\n",
              "    90% {\n",
              "      border-color: transparent;\n",
              "      border-bottom-color: var(--fill-color);\n",
              "    }\n",
              "  }\n",
              "</style>\n",
              "\n",
              "  <script>\n",
              "    async function quickchart(key) {\n",
              "      const quickchartButtonEl =\n",
              "        document.querySelector('#' + key + ' button');\n",
              "      quickchartButtonEl.disabled = true;  // To prevent multiple clicks.\n",
              "      quickchartButtonEl.classList.add('colab-df-spinner');\n",
              "      try {\n",
              "        const charts = await google.colab.kernel.invokeFunction(\n",
              "            'suggestCharts', [key], {});\n",
              "      } catch (error) {\n",
              "        console.error('Error during call to suggestCharts:', error);\n",
              "      }\n",
              "      quickchartButtonEl.classList.remove('colab-df-spinner');\n",
              "      quickchartButtonEl.classList.add('colab-df-quickchart-complete');\n",
              "    }\n",
              "    (() => {\n",
              "      let quickchartButtonEl =\n",
              "        document.querySelector('#df-e6094b37-0087-4475-97fc-92de9ed65ad7 button');\n",
              "      quickchartButtonEl.style.display =\n",
              "        google.colab.kernel.accessAllowed ? 'block' : 'none';\n",
              "    })();\n",
              "  </script>\n",
              "</div>\n",
              "    </div>\n",
              "  </div>\n"
            ],
            "application/vnd.google.colaboratory.intrinsic+json": {
              "type": "dataframe",
              "variable_name": "df_results"
            }
          },
          "metadata": {},
          "execution_count": 15
        }
      ]
    },
    {
      "cell_type": "code",
      "source": [
        "# si valeur nulle, données catégoriques, alors prendre la valeur la + fréquente\n",
        "# si valeur nulle, données numériques, prendre la moyenne (d'ou la distribution des valeurs) ou la médiane si données plus éparpillées\n",
        "# si plus de 60% de valeurs nulles dans une colonne, supprimer la colonne"
      ],
      "metadata": {
        "id": "nsPpusi07dHv"
      },
      "execution_count": null,
      "outputs": []
    },
    {
      "cell_type": "code",
      "source": [
        "df_rank_position = df_results[~ df_results[\"rank_position\"].isnull()]"
      ],
      "metadata": {
        "id": "iuuboVbBrUgW"
      },
      "execution_count": null,
      "outputs": []
    },
    {
      "cell_type": "code",
      "source": [
        "df_results[\"rank_position\"].isnull().sum()"
      ],
      "metadata": {
        "colab": {
          "base_uri": "https://localhost:8080/"
        },
        "id": "HL-RqfGLLHl_",
        "outputId": "66c39822-effb-4200-f50e-d14ebd2c9474"
      },
      "execution_count": null,
      "outputs": [
        {
          "output_type": "execute_result",
          "data": {
            "text/plain": [
              "3878"
            ]
          },
          "metadata": {},
          "execution_count": 18
        }
      ]
    },
    {
      "cell_type": "code",
      "source": [
        "df_rank_position[~ df_rank_position[\"rank_position\"].str.isnumeric()][\"rank_position\"].value_counts()"
      ],
      "metadata": {
        "colab": {
          "base_uri": "https://localhost:8080/"
        },
        "id": "rqGVM7F0qa2a",
        "outputId": "b2e5e516-032a-40ea-a19a-173d296dd627"
      },
      "execution_count": null,
      "outputs": [
        {
          "output_type": "execute_result",
          "data": {
            "text/plain": [
              "DNF    7185\n",
              "DNS    5390\n",
              "DSQ    1562\n",
              "LAP      15\n",
              "PEN      13\n",
              "WDR       6\n",
              "YCD       2\n",
              "DQB       2\n",
              "Name: rank_position, dtype: int64"
            ]
          },
          "metadata": {},
          "execution_count": 19
        }
      ]
    },
    {
      "cell_type": "code",
      "source": [
        "# dnf : does not manage to finish the race\n",
        "# dns : did not start their race\n",
        "# dsq : disqualified\n",
        "# lap : runner who is one or more laps behind.\n",
        "# pen :\n",
        "# wdr :\n",
        "# ycd :\n",
        "# dqb :"
      ],
      "metadata": {
        "id": "5WvcxwztSTtX"
      },
      "execution_count": null,
      "outputs": []
    },
    {
      "cell_type": "code",
      "source": [
        "df_results['rank_position']"
      ],
      "metadata": {
        "colab": {
          "base_uri": "https://localhost:8080/"
        },
        "id": "RKTvgUToM9kw",
        "outputId": "d610aaeb-d9e6-40df-e4ad-6d05011ba74b"
      },
      "execution_count": null,
      "outputs": [
        {
          "output_type": "execute_result",
          "data": {
            "text/plain": [
              "0           1\n",
              "1           2\n",
              "2           3\n",
              "3           4\n",
              "4           5\n",
              "         ... \n",
              "162799    DNS\n",
              "162800    DNS\n",
              "162801    DNS\n",
              "162802    DNS\n",
              "162803      1\n",
              "Name: rank_position, Length: 162804, dtype: object"
            ]
          },
          "metadata": {},
          "execution_count": 21
        }
      ]
    },
    {
      "cell_type": "code",
      "source": [
        "df_results[\"rank_position\"] = df_results[\"rank_position\"].replace({\"DNF\" : 0, \"DNS\" : 0, \"DSQ\": 0, \"LAP\" : 0, \"PEN\" : 0, \"WDR\" : 0, \"YCD\" : 0, \"DQB\" : 0})"
      ],
      "metadata": {
        "id": "ybgdMp6qMzjo"
      },
      "execution_count": null,
      "outputs": []
    },
    {
      "cell_type": "code",
      "source": [
        "df_results[\"rank_position\"].isnull().value_counts()"
      ],
      "metadata": {
        "colab": {
          "base_uri": "https://localhost:8080/"
        },
        "id": "0GTH9fnDSN3N",
        "outputId": "abdcae89-a643-43e3-def0-625d7e06cea5"
      },
      "execution_count": null,
      "outputs": [
        {
          "output_type": "execute_result",
          "data": {
            "text/plain": [
              "False    158926\n",
              "True       3878\n",
              "Name: rank_position, dtype: int64"
            ]
          },
          "metadata": {},
          "execution_count": 23
        }
      ]
    },
    {
      "cell_type": "code",
      "source": [
        "df_results.fillna({'rank_position':0}, inplace=True)"
      ],
      "metadata": {
        "id": "3oTMEm4hSgF4"
      },
      "execution_count": null,
      "outputs": []
    },
    {
      "cell_type": "code",
      "source": [
        "df_results[\"rank_position\"].isnull().value_counts()"
      ],
      "metadata": {
        "colab": {
          "base_uri": "https://localhost:8080/"
        },
        "id": "7jj7ATacSqaT",
        "outputId": "ac75708f-abeb-483a-f0e9-2402f474616f"
      },
      "execution_count": null,
      "outputs": [
        {
          "output_type": "execute_result",
          "data": {
            "text/plain": [
              "False    162804\n",
              "Name: rank_position, dtype: int64"
            ]
          },
          "metadata": {},
          "execution_count": 25
        }
      ]
    },
    {
      "cell_type": "code",
      "source": [
        "#df_results[\"rank_position\"] = int()"
      ],
      "metadata": {
        "id": "4PJf26LfLq2_"
      },
      "execution_count": null,
      "outputs": []
    },
    {
      "cell_type": "code",
      "source": [
        "df_results[\"rank_position\"].value_counts()"
      ],
      "metadata": {
        "colab": {
          "base_uri": "https://localhost:8080/"
        },
        "id": "MNtcrL0icSrO",
        "outputId": "39047d62-bbeb-48f2-a32c-8d0cbc71162b"
      },
      "execution_count": null,
      "outputs": [
        {
          "output_type": "execute_result",
          "data": {
            "text/plain": [
              "0      18053\n",
              "9       8279\n",
              "5       8040\n",
              "3       7115\n",
              "1       6754\n",
              "       ...  \n",
              "143        5\n",
              "139        5\n",
              "138        5\n",
              "163        5\n",
              "149        5\n",
              "Name: rank_position, Length: 186, dtype: int64"
            ]
          },
          "metadata": {},
          "execution_count": 27
        }
      ]
    },
    {
      "cell_type": "code",
      "source": [
        "df_results[\"value_unit\"].isnull().sum()"
      ],
      "metadata": {
        "colab": {
          "base_uri": "https://localhost:8080/"
        },
        "id": "kYEor8jiTr2C",
        "outputId": "dcfd95d7-6bba-4391-d83c-a40a5dd7f830"
      },
      "execution_count": null,
      "outputs": [
        {
          "output_type": "execute_result",
          "data": {
            "text/plain": [
              "84158"
            ]
          },
          "metadata": {},
          "execution_count": 28
        }
      ]
    },
    {
      "cell_type": "code",
      "source": [
        "df_results[\"value_unit\"] = df_results[\"value_unit\"].replace({\"LAP\" : 0})"
      ],
      "metadata": {
        "id": "QlupyaplUQqU"
      },
      "execution_count": null,
      "outputs": []
    },
    {
      "cell_type": "code",
      "source": [
        "df_results.isnull().sum()"
      ],
      "metadata": {
        "colab": {
          "base_uri": "https://localhost:8080/"
        },
        "id": "x9g0wAWlVLMK",
        "outputId": "40318076-7e73-46a3-a84f-084e86395988"
      },
      "execution_count": null,
      "outputs": [
        {
          "output_type": "execute_result",
          "data": {
            "text/plain": [
              "discipline_title              0\n",
              "event_title                   0\n",
              "slug_game                     0\n",
              "participant_type              0\n",
              "medal_type               142598\n",
              "rank_position                 0\n",
              "country_name                  0\n",
              "country_3_letter_code         0\n",
              "value_unit                84158\n",
              "value_type                72755\n",
              "dtype: int64"
            ]
          },
          "metadata": {},
          "execution_count": 30
        }
      ]
    },
    {
      "cell_type": "code",
      "source": [
        "df_results[\"value_type\"].isnull().sum()/ df_results.shape[0]"
      ],
      "metadata": {
        "colab": {
          "base_uri": "https://localhost:8080/"
        },
        "id": "uaX_AaIcV__m",
        "outputId": "df97aea8-226f-4528-ecbd-678df428562f"
      },
      "execution_count": null,
      "outputs": [
        {
          "output_type": "execute_result",
          "data": {
            "text/plain": [
              "0.44688705437212844"
            ]
          },
          "metadata": {},
          "execution_count": 31
        }
      ]
    },
    {
      "cell_type": "code",
      "source": [
        "df_results.drop(columns = [\"value_unit\", \"value_type\"], inplace=True)"
      ],
      "metadata": {
        "id": "_kpKaUDDYxvG"
      },
      "execution_count": null,
      "outputs": []
    },
    {
      "cell_type": "code",
      "source": [
        "df_results"
      ],
      "metadata": {
        "colab": {
          "base_uri": "https://localhost:8080/",
          "height": 652
        },
        "id": "3ahdQO5nZSBy",
        "outputId": "c3490777-3f2d-4920-a14b-f27316b934aa"
      },
      "execution_count": null,
      "outputs": [
        {
          "output_type": "execute_result",
          "data": {
            "text/plain": [
              "           discipline_title  \\\n",
              "0                   Curling   \n",
              "1                   Curling   \n",
              "2                   Curling   \n",
              "3                   Curling   \n",
              "4                   Curling   \n",
              "...                     ...   \n",
              "162799          Ski Jumping   \n",
              "162800          Ski Jumping   \n",
              "162801          Ski Jumping   \n",
              "162802          Ski Jumping   \n",
              "162803  Gymnastics Artistic   \n",
              "\n",
              "                                              event_title      slug_game  \\\n",
              "0                                           Mixed Doubles   beijing-2022   \n",
              "1                                           Mixed Doubles   beijing-2022   \n",
              "2                                           Mixed Doubles   beijing-2022   \n",
              "3                                           Mixed Doubles   beijing-2022   \n",
              "4                                           Mixed Doubles   beijing-2022   \n",
              "...                                                   ...            ...   \n",
              "162799                         Normal Hill Individual men  chamonix-1924   \n",
              "162800                         Normal Hill Individual men  chamonix-1924   \n",
              "162801                         Normal Hill Individual men  chamonix-1924   \n",
              "162802                         Normal Hill Individual men  chamonix-1924   \n",
              "162803  26th Federal Festival, Society and Association...     paris-1900   \n",
              "\n",
              "       participant_type medal_type rank_position              country_name  \\\n",
              "0              GameTeam       GOLD             1                     Italy   \n",
              "1              GameTeam     SILVER             2                    Norway   \n",
              "2              GameTeam     BRONZE             3                    Sweden   \n",
              "3              GameTeam        NaN             4             Great Britain   \n",
              "4              GameTeam        NaN             5                    Canada   \n",
              "...                 ...        ...           ...                       ...   \n",
              "162799          Athlete        NaN             0                    Poland   \n",
              "162800          Athlete        NaN             0                    Poland   \n",
              "162801          Athlete        NaN             0            Czechoslovakia   \n",
              "162802          Athlete        NaN             0  United States of America   \n",
              "162803         GameTeam        NaN             1                    France   \n",
              "\n",
              "       country_3_letter_code  \n",
              "0                        ITA  \n",
              "1                        NOR  \n",
              "2                        SWE  \n",
              "3                        GBR  \n",
              "4                        CAN  \n",
              "...                      ...  \n",
              "162799                   POL  \n",
              "162800                   POL  \n",
              "162801                   TCH  \n",
              "162802                   USA  \n",
              "162803                   FRA  \n",
              "\n",
              "[162804 rows x 8 columns]"
            ],
            "text/html": [
              "\n",
              "  <div id=\"df-1e572a3e-2ca3-416c-b2f4-7c61a185658a\" class=\"colab-df-container\">\n",
              "    <div>\n",
              "<style scoped>\n",
              "    .dataframe tbody tr th:only-of-type {\n",
              "        vertical-align: middle;\n",
              "    }\n",
              "\n",
              "    .dataframe tbody tr th {\n",
              "        vertical-align: top;\n",
              "    }\n",
              "\n",
              "    .dataframe thead th {\n",
              "        text-align: right;\n",
              "    }\n",
              "</style>\n",
              "<table border=\"1\" class=\"dataframe\">\n",
              "  <thead>\n",
              "    <tr style=\"text-align: right;\">\n",
              "      <th></th>\n",
              "      <th>discipline_title</th>\n",
              "      <th>event_title</th>\n",
              "      <th>slug_game</th>\n",
              "      <th>participant_type</th>\n",
              "      <th>medal_type</th>\n",
              "      <th>rank_position</th>\n",
              "      <th>country_name</th>\n",
              "      <th>country_3_letter_code</th>\n",
              "    </tr>\n",
              "  </thead>\n",
              "  <tbody>\n",
              "    <tr>\n",
              "      <th>0</th>\n",
              "      <td>Curling</td>\n",
              "      <td>Mixed Doubles</td>\n",
              "      <td>beijing-2022</td>\n",
              "      <td>GameTeam</td>\n",
              "      <td>GOLD</td>\n",
              "      <td>1</td>\n",
              "      <td>Italy</td>\n",
              "      <td>ITA</td>\n",
              "    </tr>\n",
              "    <tr>\n",
              "      <th>1</th>\n",
              "      <td>Curling</td>\n",
              "      <td>Mixed Doubles</td>\n",
              "      <td>beijing-2022</td>\n",
              "      <td>GameTeam</td>\n",
              "      <td>SILVER</td>\n",
              "      <td>2</td>\n",
              "      <td>Norway</td>\n",
              "      <td>NOR</td>\n",
              "    </tr>\n",
              "    <tr>\n",
              "      <th>2</th>\n",
              "      <td>Curling</td>\n",
              "      <td>Mixed Doubles</td>\n",
              "      <td>beijing-2022</td>\n",
              "      <td>GameTeam</td>\n",
              "      <td>BRONZE</td>\n",
              "      <td>3</td>\n",
              "      <td>Sweden</td>\n",
              "      <td>SWE</td>\n",
              "    </tr>\n",
              "    <tr>\n",
              "      <th>3</th>\n",
              "      <td>Curling</td>\n",
              "      <td>Mixed Doubles</td>\n",
              "      <td>beijing-2022</td>\n",
              "      <td>GameTeam</td>\n",
              "      <td>NaN</td>\n",
              "      <td>4</td>\n",
              "      <td>Great Britain</td>\n",
              "      <td>GBR</td>\n",
              "    </tr>\n",
              "    <tr>\n",
              "      <th>4</th>\n",
              "      <td>Curling</td>\n",
              "      <td>Mixed Doubles</td>\n",
              "      <td>beijing-2022</td>\n",
              "      <td>GameTeam</td>\n",
              "      <td>NaN</td>\n",
              "      <td>5</td>\n",
              "      <td>Canada</td>\n",
              "      <td>CAN</td>\n",
              "    </tr>\n",
              "    <tr>\n",
              "      <th>...</th>\n",
              "      <td>...</td>\n",
              "      <td>...</td>\n",
              "      <td>...</td>\n",
              "      <td>...</td>\n",
              "      <td>...</td>\n",
              "      <td>...</td>\n",
              "      <td>...</td>\n",
              "      <td>...</td>\n",
              "    </tr>\n",
              "    <tr>\n",
              "      <th>162799</th>\n",
              "      <td>Ski Jumping</td>\n",
              "      <td>Normal Hill Individual men</td>\n",
              "      <td>chamonix-1924</td>\n",
              "      <td>Athlete</td>\n",
              "      <td>NaN</td>\n",
              "      <td>0</td>\n",
              "      <td>Poland</td>\n",
              "      <td>POL</td>\n",
              "    </tr>\n",
              "    <tr>\n",
              "      <th>162800</th>\n",
              "      <td>Ski Jumping</td>\n",
              "      <td>Normal Hill Individual men</td>\n",
              "      <td>chamonix-1924</td>\n",
              "      <td>Athlete</td>\n",
              "      <td>NaN</td>\n",
              "      <td>0</td>\n",
              "      <td>Poland</td>\n",
              "      <td>POL</td>\n",
              "    </tr>\n",
              "    <tr>\n",
              "      <th>162801</th>\n",
              "      <td>Ski Jumping</td>\n",
              "      <td>Normal Hill Individual men</td>\n",
              "      <td>chamonix-1924</td>\n",
              "      <td>Athlete</td>\n",
              "      <td>NaN</td>\n",
              "      <td>0</td>\n",
              "      <td>Czechoslovakia</td>\n",
              "      <td>TCH</td>\n",
              "    </tr>\n",
              "    <tr>\n",
              "      <th>162802</th>\n",
              "      <td>Ski Jumping</td>\n",
              "      <td>Normal Hill Individual men</td>\n",
              "      <td>chamonix-1924</td>\n",
              "      <td>Athlete</td>\n",
              "      <td>NaN</td>\n",
              "      <td>0</td>\n",
              "      <td>United States of America</td>\n",
              "      <td>USA</td>\n",
              "    </tr>\n",
              "    <tr>\n",
              "      <th>162803</th>\n",
              "      <td>Gymnastics Artistic</td>\n",
              "      <td>26th Federal Festival, Society and Association...</td>\n",
              "      <td>paris-1900</td>\n",
              "      <td>GameTeam</td>\n",
              "      <td>NaN</td>\n",
              "      <td>1</td>\n",
              "      <td>France</td>\n",
              "      <td>FRA</td>\n",
              "    </tr>\n",
              "  </tbody>\n",
              "</table>\n",
              "<p>162804 rows × 8 columns</p>\n",
              "</div>\n",
              "    <div class=\"colab-df-buttons\">\n",
              "\n",
              "  <div class=\"colab-df-container\">\n",
              "    <button class=\"colab-df-convert\" onclick=\"convertToInteractive('df-1e572a3e-2ca3-416c-b2f4-7c61a185658a')\"\n",
              "            title=\"Convert this dataframe to an interactive table.\"\n",
              "            style=\"display:none;\">\n",
              "\n",
              "  <svg xmlns=\"http://www.w3.org/2000/svg\" height=\"24px\" viewBox=\"0 -960 960 960\">\n",
              "    <path d=\"M120-120v-720h720v720H120Zm60-500h600v-160H180v160Zm220 220h160v-160H400v160Zm0 220h160v-160H400v160ZM180-400h160v-160H180v160Zm440 0h160v-160H620v160ZM180-180h160v-160H180v160Zm440 0h160v-160H620v160Z\"/>\n",
              "  </svg>\n",
              "    </button>\n",
              "\n",
              "  <style>\n",
              "    .colab-df-container {\n",
              "      display:flex;\n",
              "      gap: 12px;\n",
              "    }\n",
              "\n",
              "    .colab-df-convert {\n",
              "      background-color: #E8F0FE;\n",
              "      border: none;\n",
              "      border-radius: 50%;\n",
              "      cursor: pointer;\n",
              "      display: none;\n",
              "      fill: #1967D2;\n",
              "      height: 32px;\n",
              "      padding: 0 0 0 0;\n",
              "      width: 32px;\n",
              "    }\n",
              "\n",
              "    .colab-df-convert:hover {\n",
              "      background-color: #E2EBFA;\n",
              "      box-shadow: 0px 1px 2px rgba(60, 64, 67, 0.3), 0px 1px 3px 1px rgba(60, 64, 67, 0.15);\n",
              "      fill: #174EA6;\n",
              "    }\n",
              "\n",
              "    .colab-df-buttons div {\n",
              "      margin-bottom: 4px;\n",
              "    }\n",
              "\n",
              "    [theme=dark] .colab-df-convert {\n",
              "      background-color: #3B4455;\n",
              "      fill: #D2E3FC;\n",
              "    }\n",
              "\n",
              "    [theme=dark] .colab-df-convert:hover {\n",
              "      background-color: #434B5C;\n",
              "      box-shadow: 0px 1px 3px 1px rgba(0, 0, 0, 0.15);\n",
              "      filter: drop-shadow(0px 1px 2px rgba(0, 0, 0, 0.3));\n",
              "      fill: #FFFFFF;\n",
              "    }\n",
              "  </style>\n",
              "\n",
              "    <script>\n",
              "      const buttonEl =\n",
              "        document.querySelector('#df-1e572a3e-2ca3-416c-b2f4-7c61a185658a button.colab-df-convert');\n",
              "      buttonEl.style.display =\n",
              "        google.colab.kernel.accessAllowed ? 'block' : 'none';\n",
              "\n",
              "      async function convertToInteractive(key) {\n",
              "        const element = document.querySelector('#df-1e572a3e-2ca3-416c-b2f4-7c61a185658a');\n",
              "        const dataTable =\n",
              "          await google.colab.kernel.invokeFunction('convertToInteractive',\n",
              "                                                    [key], {});\n",
              "        if (!dataTable) return;\n",
              "\n",
              "        const docLinkHtml = 'Like what you see? Visit the ' +\n",
              "          '<a target=\"_blank\" href=https://colab.research.google.com/notebooks/data_table.ipynb>data table notebook</a>'\n",
              "          + ' to learn more about interactive tables.';\n",
              "        element.innerHTML = '';\n",
              "        dataTable['output_type'] = 'display_data';\n",
              "        await google.colab.output.renderOutput(dataTable, element);\n",
              "        const docLink = document.createElement('div');\n",
              "        docLink.innerHTML = docLinkHtml;\n",
              "        element.appendChild(docLink);\n",
              "      }\n",
              "    </script>\n",
              "  </div>\n",
              "\n",
              "\n",
              "<div id=\"df-02f123cb-7cca-4983-b00b-cf788ea57a81\">\n",
              "  <button class=\"colab-df-quickchart\" onclick=\"quickchart('df-02f123cb-7cca-4983-b00b-cf788ea57a81')\"\n",
              "            title=\"Suggest charts\"\n",
              "            style=\"display:none;\">\n",
              "\n",
              "<svg xmlns=\"http://www.w3.org/2000/svg\" height=\"24px\"viewBox=\"0 0 24 24\"\n",
              "     width=\"24px\">\n",
              "    <g>\n",
              "        <path d=\"M19 3H5c-1.1 0-2 .9-2 2v14c0 1.1.9 2 2 2h14c1.1 0 2-.9 2-2V5c0-1.1-.9-2-2-2zM9 17H7v-7h2v7zm4 0h-2V7h2v10zm4 0h-2v-4h2v4z\"/>\n",
              "    </g>\n",
              "</svg>\n",
              "  </button>\n",
              "\n",
              "<style>\n",
              "  .colab-df-quickchart {\n",
              "      --bg-color: #E8F0FE;\n",
              "      --fill-color: #1967D2;\n",
              "      --hover-bg-color: #E2EBFA;\n",
              "      --hover-fill-color: #174EA6;\n",
              "      --disabled-fill-color: #AAA;\n",
              "      --disabled-bg-color: #DDD;\n",
              "  }\n",
              "\n",
              "  [theme=dark] .colab-df-quickchart {\n",
              "      --bg-color: #3B4455;\n",
              "      --fill-color: #D2E3FC;\n",
              "      --hover-bg-color: #434B5C;\n",
              "      --hover-fill-color: #FFFFFF;\n",
              "      --disabled-bg-color: #3B4455;\n",
              "      --disabled-fill-color: #666;\n",
              "  }\n",
              "\n",
              "  .colab-df-quickchart {\n",
              "    background-color: var(--bg-color);\n",
              "    border: none;\n",
              "    border-radius: 50%;\n",
              "    cursor: pointer;\n",
              "    display: none;\n",
              "    fill: var(--fill-color);\n",
              "    height: 32px;\n",
              "    padding: 0;\n",
              "    width: 32px;\n",
              "  }\n",
              "\n",
              "  .colab-df-quickchart:hover {\n",
              "    background-color: var(--hover-bg-color);\n",
              "    box-shadow: 0 1px 2px rgba(60, 64, 67, 0.3), 0 1px 3px 1px rgba(60, 64, 67, 0.15);\n",
              "    fill: var(--button-hover-fill-color);\n",
              "  }\n",
              "\n",
              "  .colab-df-quickchart-complete:disabled,\n",
              "  .colab-df-quickchart-complete:disabled:hover {\n",
              "    background-color: var(--disabled-bg-color);\n",
              "    fill: var(--disabled-fill-color);\n",
              "    box-shadow: none;\n",
              "  }\n",
              "\n",
              "  .colab-df-spinner {\n",
              "    border: 2px solid var(--fill-color);\n",
              "    border-color: transparent;\n",
              "    border-bottom-color: var(--fill-color);\n",
              "    animation:\n",
              "      spin 1s steps(1) infinite;\n",
              "  }\n",
              "\n",
              "  @keyframes spin {\n",
              "    0% {\n",
              "      border-color: transparent;\n",
              "      border-bottom-color: var(--fill-color);\n",
              "      border-left-color: var(--fill-color);\n",
              "    }\n",
              "    20% {\n",
              "      border-color: transparent;\n",
              "      border-left-color: var(--fill-color);\n",
              "      border-top-color: var(--fill-color);\n",
              "    }\n",
              "    30% {\n",
              "      border-color: transparent;\n",
              "      border-left-color: var(--fill-color);\n",
              "      border-top-color: var(--fill-color);\n",
              "      border-right-color: var(--fill-color);\n",
              "    }\n",
              "    40% {\n",
              "      border-color: transparent;\n",
              "      border-right-color: var(--fill-color);\n",
              "      border-top-color: var(--fill-color);\n",
              "    }\n",
              "    60% {\n",
              "      border-color: transparent;\n",
              "      border-right-color: var(--fill-color);\n",
              "    }\n",
              "    80% {\n",
              "      border-color: transparent;\n",
              "      border-right-color: var(--fill-color);\n",
              "      border-bottom-color: var(--fill-color);\n",
              "    }\n",
              "    90% {\n",
              "      border-color: transparent;\n",
              "      border-bottom-color: var(--fill-color);\n",
              "    }\n",
              "  }\n",
              "</style>\n",
              "\n",
              "  <script>\n",
              "    async function quickchart(key) {\n",
              "      const quickchartButtonEl =\n",
              "        document.querySelector('#' + key + ' button');\n",
              "      quickchartButtonEl.disabled = true;  // To prevent multiple clicks.\n",
              "      quickchartButtonEl.classList.add('colab-df-spinner');\n",
              "      try {\n",
              "        const charts = await google.colab.kernel.invokeFunction(\n",
              "            'suggestCharts', [key], {});\n",
              "      } catch (error) {\n",
              "        console.error('Error during call to suggestCharts:', error);\n",
              "      }\n",
              "      quickchartButtonEl.classList.remove('colab-df-spinner');\n",
              "      quickchartButtonEl.classList.add('colab-df-quickchart-complete');\n",
              "    }\n",
              "    (() => {\n",
              "      let quickchartButtonEl =\n",
              "        document.querySelector('#df-02f123cb-7cca-4983-b00b-cf788ea57a81 button');\n",
              "      quickchartButtonEl.style.display =\n",
              "        google.colab.kernel.accessAllowed ? 'block' : 'none';\n",
              "    })();\n",
              "  </script>\n",
              "</div>\n",
              "    </div>\n",
              "  </div>\n"
            ],
            "application/vnd.google.colaboratory.intrinsic+json": {
              "type": "dataframe",
              "variable_name": "df_results"
            }
          },
          "metadata": {},
          "execution_count": 33
        }
      ]
    },
    {
      "cell_type": "code",
      "source": [
        "df_rank_position[df_rank_position[\"rank_position\"].str.isnumeric()][\"rank_position\"].hist(bins = 10)"
      ],
      "metadata": {
        "id": "kCcgXDJzsiLt",
        "outputId": "da2915d9-fa17-4c23-dc3d-ae38204162d5",
        "colab": {
          "base_uri": "https://localhost:8080/",
          "height": 448
        }
      },
      "execution_count": null,
      "outputs": [
        {
          "output_type": "execute_result",
          "data": {
            "text/plain": [
              "<Axes: >"
            ]
          },
          "metadata": {},
          "execution_count": 45
        },
        {
          "output_type": "display_data",
          "data": {
            "text/plain": [
              "<Figure size 640x480 with 1 Axes>"
            ],
            "image/png": "[encoded data removed]"
          },
          "metadata": {}
        }
      ]
    },
    {
      "cell_type": "code",
      "source": [
        "# df_num = df_1[df_1[\"rank_position\"].str.isnumeric()]"
      ],
      "metadata": {
        "id": "UYcXU13muSVX"
      },
      "execution_count": null,
      "outputs": []
    },
    {
      "cell_type": "code",
      "source": [
        "df_results[\"medal_type\"].value_counts().sum()"
      ],
      "metadata": {
        "colab": {
          "base_uri": "https://localhost:8080/"
        },
        "id": "p2OQI366a82e",
        "outputId": "03cb2bc2-f86d-4b1c-b4ae-a0ff4200a0ab"
      },
      "execution_count": null,
      "outputs": [
        {
          "output_type": "execute_result",
          "data": {
            "text/plain": [
              "20206"
            ]
          },
          "metadata": {},
          "execution_count": 36
        }
      ]
    },
    {
      "cell_type": "markdown",
      "source": [],
      "metadata": {
        "id": "ESD5G8R_v_WW"
      }
    },
    {
      "cell_type": "code",
      "source": [
        "df_results[\"rank_position\"]"
      ],
      "metadata": {
        "colab": {
          "base_uri": "https://localhost:8080/"
        },
        "id": "eBk_gP8AbzI0",
        "outputId": "10f28b99-c535-417a-9119-a361a532dc17"
      },
      "execution_count": null,
      "outputs": [
        {
          "output_type": "execute_result",
          "data": {
            "text/plain": [
              "0         1\n",
              "1         2\n",
              "2         3\n",
              "3         4\n",
              "4         5\n",
              "         ..\n",
              "162799    0\n",
              "162800    0\n",
              "162801    0\n",
              "162802    0\n",
              "162803    1\n",
              "Name: rank_position, Length: 162804, dtype: object"
            ]
          },
          "metadata": {},
          "execution_count": 37
        }
      ]
    },
    {
      "cell_type": "code",
      "source": [
        "df_results['rank_position'] = df_results['rank_position'].astype(int)"
      ],
      "metadata": {
        "id": "aS-Tb5_uv564"
      },
      "execution_count": null,
      "outputs": []
    },
    {
      "cell_type": "code",
      "source": [
        "df_results.dtypes"
      ],
      "metadata": {
        "colab": {
          "base_uri": "https://localhost:8080/"
        },
        "id": "cEhijBumwS4Q",
        "outputId": "360b511f-86bb-4cb5-f319-b7d18e28b1d3"
      },
      "execution_count": null,
      "outputs": [
        {
          "output_type": "execute_result",
          "data": {
            "text/plain": [
              "discipline_title         object\n",
              "event_title              object\n",
              "slug_game                object\n",
              "participant_type         object\n",
              "medal_type               object\n",
              "rank_position             int64\n",
              "country_name             object\n",
              "country_3_letter_code    object\n",
              "dtype: object"
            ]
          },
          "metadata": {},
          "execution_count": 39
        }
      ]
    },
    {
      "cell_type": "code",
      "source": [
        "df_results.to_csv(\"Results_cleaned.csv\", index=False)"
      ],
      "metadata": {
        "id": "OPjI4Bo_xJh6"
      },
      "execution_count": null,
      "outputs": []
    },
    {
      "cell_type": "markdown",
      "source": [],
      "metadata": {
        "id": "f7nPB4W1wFFJ"
      }
    },
    {
      "cell_type": "code",
      "source": [
        "df_results[\"rank_position\"].hist()"
      ],
      "metadata": {
        "id": "NsjiwhKMAUep",
        "outputId": "d03bf028-22e1-4d36-afef-5aa1e7c90b7c",
        "colab": {
          "base_uri": "https://localhost:8080/",
          "height": 448
        }
      },
      "execution_count": null,
      "outputs": [
        {
          "output_type": "execute_result",
          "data": {
            "text/plain": [
              "<Axes: >"
            ]
          },
          "metadata": {},
          "execution_count": 46
        },
        {
          "output_type": "display_data",
          "data": {
            "text/plain": [
              "<Figure size 640x480 with 1 Axes>"
            ],
            "image/png": "[encoded data removed]"
          },
          "metadata": {}
        }
      ]
    },
    {
      "cell_type": "code",
      "source": [
        "df_results.info()"
      ],
      "metadata": {
        "colab": {
          "base_uri": "https://localhost:8080/"
        },
        "id": "4Ohwfprc_C1D",
        "outputId": "7986d972-354c-4bee-b6a1-d4b9da5b78b2"
      },
      "execution_count": null,
      "outputs": [
        {
          "output_type": "stream",
          "name": "stdout",
          "text": [
            "<class 'pandas.core.frame.DataFrame'>\n",
            "RangeIndex: 162804 entries, 0 to 162803\n",
            "Data columns (total 8 columns):\n",
            " #   Column                 Non-Null Count   Dtype \n",
            "---  ------                 --------------   ----- \n",
            " 0   discipline_title       162804 non-null  object\n",
            " 1   event_title            162804 non-null  object\n",
            " 2   slug_game              162804 non-null  object\n",
            " 3   participant_type       162804 non-null  object\n",
            " 4   medal_type             20206 non-null   object\n",
            " 5   rank_position          162804 non-null  int64 \n",
            " 6   country_name           162804 non-null  object\n",
            " 7   country_3_letter_code  162804 non-null  object\n",
            "dtypes: int64(1), object(7)\n",
            "memory usage: 9.9+ MB\n"
          ]
        }
      ]
    },
    {
      "cell_type": "code",
      "source": [],
      "metadata": {
        "id": "z-dDHS_X_FsR"
      },
      "execution_count": null,
      "outputs": []
    }
  ]
}